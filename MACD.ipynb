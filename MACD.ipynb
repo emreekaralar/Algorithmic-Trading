{
 "cells": [
  {
   "cell_type": "code",
   "execution_count": 54,
   "id": "394c9843",
   "metadata": {},
   "outputs": [],
   "source": [
    "import yfinance as yf\n",
    "import matplotlib.pyplot as plt"
   ]
  },
  {
   "cell_type": "code",
   "execution_count": 22,
   "id": "2ac81964",
   "metadata": {},
   "outputs": [
    {
     "name": "stdout",
     "output_type": "stream",
     "text": [
      "[*********************100%%**********************]  1 of 1 completed\n"
     ]
    }
   ],
   "source": [
    "df = yf.download('TSLA', start= '2023-01-01')"
   ]
  },
  {
   "cell_type": "code",
   "execution_count": 24,
   "id": "1a281e9c",
   "metadata": {},
   "outputs": [],
   "source": [
    "def MACD(df):\n",
    "    df['EMA12'] = df.Close.ewm(span=12).mean()\n",
    "    df['EMA26'] = df.Close.ewm(span=26).mean()\n",
    "    df['MACD'] = df.EMA12 - df.EMA26\n",
    "    df['signal'] = df.MACD.ewm(span=9).mean()\n",
    "    print('indicators added')"
   ]
  },
  {
   "cell_type": "code",
   "execution_count": 25,
   "id": "a48ccdf7",
   "metadata": {},
   "outputs": [
    {
     "name": "stdout",
     "output_type": "stream",
     "text": [
      "indicators added\n"
     ]
    }
   ],
   "source": [
    "MACD(df)"
   ]
  },
  {
   "cell_type": "code",
   "execution_count": 9,
   "id": "5741b57a",
   "metadata": {},
   "outputs": [
    {
     "data": {
      "text/html": [
       "<div>\n",
       "<style scoped>\n",
       "    .dataframe tbody tr th:only-of-type {\n",
       "        vertical-align: middle;\n",
       "    }\n",
       "\n",
       "    .dataframe tbody tr th {\n",
       "        vertical-align: top;\n",
       "    }\n",
       "\n",
       "    .dataframe thead th {\n",
       "        text-align: right;\n",
       "    }\n",
       "</style>\n",
       "<table border=\"1\" class=\"dataframe\">\n",
       "  <thead>\n",
       "    <tr style=\"text-align: right;\">\n",
       "      <th></th>\n",
       "      <th>Open</th>\n",
       "      <th>High</th>\n",
       "      <th>Low</th>\n",
       "      <th>Close</th>\n",
       "      <th>Adj Close</th>\n",
       "      <th>Volume</th>\n",
       "      <th>EMA12</th>\n",
       "      <th>EMA26</th>\n",
       "      <th>MACD</th>\n",
       "      <th>signal</th>\n",
       "    </tr>\n",
       "    <tr>\n",
       "      <th>Date</th>\n",
       "      <th></th>\n",
       "      <th></th>\n",
       "      <th></th>\n",
       "      <th></th>\n",
       "      <th></th>\n",
       "      <th></th>\n",
       "      <th></th>\n",
       "      <th></th>\n",
       "      <th></th>\n",
       "      <th></th>\n",
       "    </tr>\n",
       "  </thead>\n",
       "  <tbody>\n",
       "    <tr>\n",
       "      <th>2023-06-01</th>\n",
       "      <td>202.589996</td>\n",
       "      <td>209.800003</td>\n",
       "      <td>199.369995</td>\n",
       "      <td>207.520004</td>\n",
       "      <td>207.520004</td>\n",
       "      <td>148029900</td>\n",
       "      <td>207.520004</td>\n",
       "      <td>207.520004</td>\n",
       "      <td>0.000000</td>\n",
       "      <td>0.000000</td>\n",
       "    </tr>\n",
       "    <tr>\n",
       "      <th>2023-06-02</th>\n",
       "      <td>210.149994</td>\n",
       "      <td>217.250000</td>\n",
       "      <td>209.750000</td>\n",
       "      <td>213.970001</td>\n",
       "      <td>213.970001</td>\n",
       "      <td>164129000</td>\n",
       "      <td>211.013753</td>\n",
       "      <td>210.869041</td>\n",
       "      <td>0.144711</td>\n",
       "      <td>0.080395</td>\n",
       "    </tr>\n",
       "    <tr>\n",
       "      <th>2023-06-05</th>\n",
       "      <td>217.800003</td>\n",
       "      <td>221.289993</td>\n",
       "      <td>214.520004</td>\n",
       "      <td>217.610001</td>\n",
       "      <td>217.610001</td>\n",
       "      <td>151143100</td>\n",
       "      <td>213.588270</td>\n",
       "      <td>213.291002</td>\n",
       "      <td>0.297267</td>\n",
       "      <td>0.169277</td>\n",
       "    </tr>\n",
       "    <tr>\n",
       "      <th>2023-06-06</th>\n",
       "      <td>216.139999</td>\n",
       "      <td>221.910004</td>\n",
       "      <td>212.529999</td>\n",
       "      <td>221.309998</td>\n",
       "      <td>221.309998</td>\n",
       "      <td>146911600</td>\n",
       "      <td>216.025717</td>\n",
       "      <td>215.532763</td>\n",
       "      <td>0.492954</td>\n",
       "      <td>0.278924</td>\n",
       "    </tr>\n",
       "    <tr>\n",
       "      <th>2023-06-07</th>\n",
       "      <td>228.000000</td>\n",
       "      <td>230.830002</td>\n",
       "      <td>223.199997</td>\n",
       "      <td>224.570007</td>\n",
       "      <td>224.570007</td>\n",
       "      <td>185710800</td>\n",
       "      <td>218.347170</td>\n",
       "      <td>217.628537</td>\n",
       "      <td>0.718633</td>\n",
       "      <td>0.409728</td>\n",
       "    </tr>\n",
       "    <tr>\n",
       "      <th>...</th>\n",
       "      <td>...</td>\n",
       "      <td>...</td>\n",
       "      <td>...</td>\n",
       "      <td>...</td>\n",
       "      <td>...</td>\n",
       "      <td>...</td>\n",
       "      <td>...</td>\n",
       "      <td>...</td>\n",
       "      <td>...</td>\n",
       "      <td>...</td>\n",
       "    </tr>\n",
       "    <tr>\n",
       "      <th>2024-01-25</th>\n",
       "      <td>189.699997</td>\n",
       "      <td>193.000000</td>\n",
       "      <td>180.059998</td>\n",
       "      <td>182.630005</td>\n",
       "      <td>182.630005</td>\n",
       "      <td>198076800</td>\n",
       "      <td>213.338774</td>\n",
       "      <td>224.827156</td>\n",
       "      <td>-11.488382</td>\n",
       "      <td>-7.352123</td>\n",
       "    </tr>\n",
       "    <tr>\n",
       "      <th>2024-01-26</th>\n",
       "      <td>185.500000</td>\n",
       "      <td>186.779999</td>\n",
       "      <td>182.100006</td>\n",
       "      <td>183.250000</td>\n",
       "      <td>183.250000</td>\n",
       "      <td>107063400</td>\n",
       "      <td>208.709732</td>\n",
       "      <td>221.747357</td>\n",
       "      <td>-13.037625</td>\n",
       "      <td>-8.489224</td>\n",
       "    </tr>\n",
       "    <tr>\n",
       "      <th>2024-01-29</th>\n",
       "      <td>185.630005</td>\n",
       "      <td>191.479996</td>\n",
       "      <td>183.669998</td>\n",
       "      <td>190.929993</td>\n",
       "      <td>190.929993</td>\n",
       "      <td>125013100</td>\n",
       "      <td>205.974387</td>\n",
       "      <td>219.464583</td>\n",
       "      <td>-13.490196</td>\n",
       "      <td>-9.489418</td>\n",
       "    </tr>\n",
       "    <tr>\n",
       "      <th>2024-01-30</th>\n",
       "      <td>195.330002</td>\n",
       "      <td>196.360001</td>\n",
       "      <td>190.610001</td>\n",
       "      <td>191.589996</td>\n",
       "      <td>191.589996</td>\n",
       "      <td>108989800</td>\n",
       "      <td>203.761404</td>\n",
       "      <td>217.399794</td>\n",
       "      <td>-13.638389</td>\n",
       "      <td>-10.319212</td>\n",
       "    </tr>\n",
       "    <tr>\n",
       "      <th>2024-01-31</th>\n",
       "      <td>186.994995</td>\n",
       "      <td>190.369995</td>\n",
       "      <td>185.845901</td>\n",
       "      <td>188.785995</td>\n",
       "      <td>188.785995</td>\n",
       "      <td>21412206</td>\n",
       "      <td>201.457495</td>\n",
       "      <td>215.280248</td>\n",
       "      <td>-13.822753</td>\n",
       "      <td>-11.019920</td>\n",
       "    </tr>\n",
       "  </tbody>\n",
       "</table>\n",
       "<p>168 rows × 10 columns</p>\n",
       "</div>"
      ],
      "text/plain": [
       "                  Open        High         Low       Close   Adj Close  \\\n",
       "Date                                                                     \n",
       "2023-06-01  202.589996  209.800003  199.369995  207.520004  207.520004   \n",
       "2023-06-02  210.149994  217.250000  209.750000  213.970001  213.970001   \n",
       "2023-06-05  217.800003  221.289993  214.520004  217.610001  217.610001   \n",
       "2023-06-06  216.139999  221.910004  212.529999  221.309998  221.309998   \n",
       "2023-06-07  228.000000  230.830002  223.199997  224.570007  224.570007   \n",
       "...                ...         ...         ...         ...         ...   \n",
       "2024-01-25  189.699997  193.000000  180.059998  182.630005  182.630005   \n",
       "2024-01-26  185.500000  186.779999  182.100006  183.250000  183.250000   \n",
       "2024-01-29  185.630005  191.479996  183.669998  190.929993  190.929993   \n",
       "2024-01-30  195.330002  196.360001  190.610001  191.589996  191.589996   \n",
       "2024-01-31  186.994995  190.369995  185.845901  188.785995  188.785995   \n",
       "\n",
       "               Volume       EMA12       EMA26       MACD     signal  \n",
       "Date                                                                 \n",
       "2023-06-01  148029900  207.520004  207.520004   0.000000   0.000000  \n",
       "2023-06-02  164129000  211.013753  210.869041   0.144711   0.080395  \n",
       "2023-06-05  151143100  213.588270  213.291002   0.297267   0.169277  \n",
       "2023-06-06  146911600  216.025717  215.532763   0.492954   0.278924  \n",
       "2023-06-07  185710800  218.347170  217.628537   0.718633   0.409728  \n",
       "...               ...         ...         ...        ...        ...  \n",
       "2024-01-25  198076800  213.338774  224.827156 -11.488382  -7.352123  \n",
       "2024-01-26  107063400  208.709732  221.747357 -13.037625  -8.489224  \n",
       "2024-01-29  125013100  205.974387  219.464583 -13.490196  -9.489418  \n",
       "2024-01-30  108989800  203.761404  217.399794 -13.638389 -10.319212  \n",
       "2024-01-31   21412206  201.457495  215.280248 -13.822753 -11.019920  \n",
       "\n",
       "[168 rows x 10 columns]"
      ]
     },
     "execution_count": 9,
     "metadata": {},
     "output_type": "execute_result"
    }
   ],
   "source": [
    "df"
   ]
  },
  {
   "cell_type": "code",
   "execution_count": 26,
   "id": "8a049af9",
   "metadata": {},
   "outputs": [
    {
     "data": {
      "image/png": "[encoded data removed]",
      "text/plain": [
       "<Figure size 640x480 with 1 Axes>"
      ]
     },
     "metadata": {},
     "output_type": "display_data"
    }
   ],
   "source": [
    "plt.plot(df.signal, label='signal', color='red')\n",
    "plt.plot(df.MACD, label='MACD', color='green')\n",
    "plt.legend()\n",
    "plt.show()"
   ]
  },
  {
   "cell_type": "code",
   "execution_count": 27,
   "id": "44b0be48",
   "metadata": {},
   "outputs": [],
   "source": [
    "Buy, Sell = [], []\n",
    "\n",
    "for i in range(2, len(df)):\n",
    "    if df.MACD.iloc[i] > df.signal.iloc[i] and df.MACD.iloc[i-1] < df.signal.iloc[i-1]:\n",
    "        Buy.append(i)\n",
    "    elif df.MACD.iloc[i] < df.signal.iloc[i] and df.MACD.iloc[i-1] > df.signal.iloc[i-1]:\n",
    "        Sell.append(i)"
   ]
  },
  {
   "cell_type": "code",
   "execution_count": 61,
   "id": "f9b3536b",
   "metadata": {},
   "outputs": [
    {
     "data": {
      "image/png": "[encoded data removed]",
      "text/plain": [
       "<Figure size 640x480 with 1 Axes>"
      ]
     },
     "metadata": {},
     "output_type": "display_data"
    }
   ],
   "source": [
    "plt.scatter(df.iloc[Buy].index, df.iloc[Buy].Close, marker=\"^\", color='green')\n",
    "plt.scatter(df.iloc[Sell].index, df.iloc[Sell].Close, marker=\"^\", color='green')\n",
    "plt.plot(df.Close, label='TSLA Close', color='k')\n",
    "plt.legend()\n",
    "plt.show()"
   ]
  },
  {
   "cell_type": "code",
   "execution_count": 29,
   "id": "415f4f58",
   "metadata": {},
   "outputs": [
    {
     "data": {
      "text/plain": [
       "[3, 55, 85, 125, 162, 190, 212, 239]"
      ]
     },
     "execution_count": 29,
     "metadata": {},
     "output_type": "execute_result"
    }
   ],
   "source": [
    "Buy"
   ]
  },
  {
   "cell_type": "code",
   "execution_count": 30,
   "id": "d00b03ec",
   "metadata": {},
   "outputs": [],
   "source": [
    "Realbuys = [i+1 for i in Buy]\n",
    "Realsells = [i+1 for i in Sell]"
   ]
  },
  {
   "cell_type": "code",
   "execution_count": 35,
   "id": "58c68348",
   "metadata": {},
   "outputs": [],
   "source": [
    "Buyprices = df.Open.iloc[Realbuys]\n",
    "Sellprices = df.Open.iloc[Realsells]"
   ]
  },
  {
   "cell_type": "code",
   "execution_count": 32,
   "id": "3126f838",
   "metadata": {},
   "outputs": [
    {
     "data": {
      "text/plain": [
       "Date\n",
       "2023-01-09    118.959999\n",
       "2023-03-24    191.649994\n",
       "2023-05-08    173.720001\n",
       "2023-07-06    278.089996\n",
       "2023-08-28    242.580002\n",
       "2023-10-06    253.979996\n",
       "2023-11-07    219.979996\n",
       "2023-12-15    251.210007\n",
       "Name: Open, dtype: float64"
      ]
     },
     "execution_count": 32,
     "metadata": {},
     "output_type": "execute_result"
    }
   ],
   "source": [
    "Buyprices"
   ]
  },
  {
   "cell_type": "code",
   "execution_count": 37,
   "id": "bccc9fc0",
   "metadata": {},
   "outputs": [
    {
     "data": {
      "text/plain": [
       "Date\n",
       "2023-01-06    103.000000\n",
       "2023-02-22    197.929993\n",
       "2023-04-06    183.080002\n",
       "2023-06-27    243.240005\n",
       "2023-07-07    278.429993\n",
       "2023-09-25    243.380005\n",
       "2023-10-17    250.100006\n",
       "2023-12-14    241.220001\n",
       "2024-01-02    250.080002\n",
       "Name: Open, dtype: float64"
      ]
     },
     "execution_count": 37,
     "metadata": {},
     "output_type": "execute_result"
    }
   ],
   "source": [
    "Sellprices"
   ]
  },
  {
   "cell_type": "code",
   "execution_count": 39,
   "id": "664c4a4f",
   "metadata": {},
   "outputs": [],
   "source": [
    "if Sellprices.index[0] < Buyprices.index[0]:\n",
    "    Sellprices = Sellprices.drop(Sellprices.index[0])\n",
    "elif Buyprices.index[-1] > Sellprices.index[-1]:\n",
    "    Buyprices = Buyprices.drop(Buyprices.index[-1])"
   ]
  },
  {
   "cell_type": "code",
   "execution_count": 40,
   "id": "d58e6d75",
   "metadata": {},
   "outputs": [],
   "source": [
    "profitsrel=[]\n",
    "for i in range(len(Sellprices)):\n",
    "    profitsrel.append((Sellprices[i] - Buyprices[i])/Buyprices[i])"
   ]
  },
  {
   "cell_type": "code",
   "execution_count": 41,
   "id": "d3f6fd72",
   "metadata": {},
   "outputs": [
    {
     "data": {
      "text/plain": [
       "[0.6638365349619123,\n",
       " -0.04471689192987183,\n",
       " 0.40018422624887634,\n",
       " 0.0012226126159443566,\n",
       " 0.003297893666910664,\n",
       " -0.015276752851770877,\n",
       " 0.09655425904940614,\n",
       " -0.004498247890656666]"
      ]
     },
     "execution_count": 41,
     "metadata": {},
     "output_type": "execute_result"
    }
   ],
   "source": [
    "profitsrel"
   ]
  },
  {
   "cell_type": "code",
   "execution_count": 44,
   "id": "eccb0035",
   "metadata": {},
   "outputs": [
    {
     "data": {
      "text/plain": [
       "0.13757545423384382"
      ]
     },
     "execution_count": 44,
     "metadata": {},
     "output_type": "execute_result"
    }
   ],
   "source": [
    "sum(profitsrel)/len(profitsrel)"
   ]
  },
  {
   "cell_type": "code",
   "execution_count": 51,
   "id": "b562818d",
   "metadata": {},
   "outputs": [],
   "source": [
    "import pandas "
   ]
  },
  {
   "cell_type": "code",
   "execution_count": 53,
   "id": "ce2c0241",
   "metadata": {},
   "outputs": [
    {
     "data": {
      "text/plain": [
       "0    0.137575\n",
       "dtype: float64"
      ]
     },
     "execution_count": 53,
     "metadata": {},
     "output_type": "execute_result"
    }
   ],
   "source": [
    "pandas.DataFrame(profitsrel).mean()"
   ]
  },
  {
   "cell_type": "code",
   "execution_count": null,
   "id": "516d4b8a",
   "metadata": {},
   "outputs": [],
   "source": []
  }
 ],
 "metadata": {
  "kernelspec": {
   "display_name": "Python 3 (ipykernel)",
   "language": "python",
   "name": "python3"
  },
  "language_info": {
   "codemirror_mode": {
    "name": "ipython",
    "version": 3
   },
   "file_extension": ".py",
   "mimetype": "text/x-python",
   "name": "python",
   "nbconvert_exporter": "python",
   "pygments_lexer": "ipython3",
   "version": "3.11.5"
  }
 },
 "nbformat": 4,
 "nbformat_minor": 5
}
